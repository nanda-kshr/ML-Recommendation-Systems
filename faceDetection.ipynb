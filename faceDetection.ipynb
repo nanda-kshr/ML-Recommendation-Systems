{
 "cells": [
  {
   "cell_type": "code",
   "execution_count": 4,
   "id": "2113aef9-f32b-42b4-99b3-cd7ae8bda01e",
   "metadata": {},
   "outputs": [
    {
     "name": "stderr",
     "output_type": "stream",
     "text": [
      "Matplotlib created a temporary cache directory at C:\\Users\\nanda\\AppData\\Local\\Temp\\matplotlib-7yusut9x because the default path (C:\\Users\\nanda\\.matplotlib) is not a writable directory; it is highly recommended to set the MPLCONFIGDIR environment variable to a writable directory, in particular to speed up the import of Matplotlib and to better support multiprocessing.\n"
     ]
    }
   ],
   "source": [
    "import dlib\n",
    "import cv2\n",
    "import numpy as np\n",
    "import pandas as pd\n",
    "import matplotlib.pyplot as plt\n",
    "import seaborn as sns\n"
   ]
  },
  {
   "cell_type": "code",
   "execution_count": 5,
   "id": "1d2aa05d-d7e9-4d84-8977-c0f3ccd4f544",
   "metadata": {},
   "outputs": [],
   "source": [
    "image = cv2.imread(r\"people2.jpg\")\n",
    "face_detector_hog = dlib.get_frontal_face_detector()\n",
    "detections = face_detector_hog(image, 1) # 1 – is the scale factor \n",
    "\n",
    "for face in detections:\n",
    "  l, t, r, b = face.left(), face.top(), face.right(), face.bottom()\n",
    "  cv2.rectangle(image, (l, t), (r, b), (0, 255, 255), 2)\n",
    "cv2.imshow('',image)\n",
    "cv2.waitKey(10000)\n",
    "plt.show()\n",
    "cv2.destroyAllWindows()\n",
    "\n"
   ]
  },
  {
   "cell_type": "code",
   "execution_count": 11,
   "id": "57c7d697-525b-4b4d-9853-dfb4bccf166b",
   "metadata": {},
   "outputs": [
    {
     "data": {
      "text/plain": [
       "array([[ 927,  492,  173,  173],\n",
       "       [1634,  154,  148,  148],\n",
       "       [ 282,  263,  115,  115],\n",
       "       [1148,  262,  130,  130],\n",
       "       [ 232,  511,  138,  138]])"
      ]
     },
     "metadata": {},
     "output_type": "display_data"
    },
    {
     "name": "stdout",
     "output_type": "stream",
     "text": [
      "173 173\n",
      "148 148\n",
      "115 115\n",
      "130 130\n",
      "138 138\n"
     ]
    }
   ],
   "source": [
    "face_detector = cv2.CascadeClassifier('haarcascade_frontalface_default.xml')\n",
    "image = cv2.imread(r\"people1.jpg\")\n",
    "image_gray = cv2.cvtColor(image, cv2.COLOR_BGR2GRAY)\n",
    "detections = face_detector.detectMultiScale(image_gray, scaleFactor = 1.2,minNeighbors=5)\n",
    "display (detections)\n",
    "for (x, y, w, h) in detections:\n",
    "    print(w, h)\n",
    "    cv2.rectangle(image, (x, y), (x + w, y + h), (0,255,0), 2)"
   ]
  },
  {
   "cell_type": "code",
   "execution_count": 13,
   "id": "04495044-f755-4bec-a165-6f356717114d",
   "metadata": {},
   "outputs": [],
   "source": [
    "cv2.imshow('',image)\n",
    "cv2.waitKey(10000)\n",
    "plt.show()\n",
    "cv2.destroyAllWindows()"
   ]
  },
  {
   "cell_type": "code",
   "execution_count": 33,
   "id": "d02c71e2",
   "metadata": {},
   "outputs": [
    {
     "data": {
      "text/plain": [
       "array([[465,  63,  71,  71]])"
      ]
     },
     "metadata": {},
     "output_type": "display_data"
    },
    {
     "name": "stdout",
     "output_type": "stream",
     "text": [
      "71 71\n"
     ]
    }
   ],
   "source": [
    "image = cv2.imread(r\"people3.jpg\")\n",
    "image_gray = cv2.cvtColor(image, cv2.COLOR_BGR2GRAY)\n",
    "detections = face_detector.detectMultiScale(image_gray, scaleFactor = 1.001, minNeighbors=3)\n",
    "display (detections)\n",
    "for (x, y, w, h) in detections:\n",
    "    print(w, h)\n",
    "    cv2.rectangle(image, (x, y), (x + w, y + h), (0,255,0), 2)\n"
   ]
  },
  {
   "cell_type": "code",
   "execution_count": 34,
   "id": "43f30f92-f7be-49ec-99f6-5af0213dcdb4",
   "metadata": {},
   "outputs": [],
   "source": [
    "cv2.imshow('',image)\n",
    "cv2.waitKey(10000)\n",
    "plt.show()\n",
    "cv2.destroyAllWindows()\n"
   ]
  },
  {
   "cell_type": "code",
   "execution_count": null,
   "id": "caf1d800-2897-48a6-9ad1-d046fdf4c979",
   "metadata": {},
   "outputs": [],
   "source": []
  }
 ],
 "metadata": {
  "kernelspec": {
   "display_name": "Python 3 (ipykernel)",
   "language": "python",
   "name": "python3"
  },
  "language_info": {
   "codemirror_mode": {
    "name": "ipython",
    "version": 3
   },
   "file_extension": ".py",
   "mimetype": "text/x-python",
   "name": "python",
   "nbconvert_exporter": "python",
   "pygments_lexer": "ipython3",
   "version": "3.7.1"
  }
 },
 "nbformat": 4,
 "nbformat_minor": 5
}
