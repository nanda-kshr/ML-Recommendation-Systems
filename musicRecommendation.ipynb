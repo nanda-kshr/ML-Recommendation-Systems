{
 "cells": [
  {
   "cell_type": "code",
   "execution_count": 2,
   "id": "e1d8f3b6-8866-4747-bbf4-abd969db5982",
   "metadata": {},
   "outputs": [],
   "source": [
    "import pandas as pd\n",
    "from sklearn.feature_extraction.text import CountVectorizer\n",
    "from sklearn.metrics.pairwise import cosine_similarity\n"
   ]
  },
  {
   "cell_type": "code",
   "execution_count": 6,
   "id": "08543224-cee1-4eea-9228-3ad345ca315b",
   "metadata": {},
   "outputs": [
    {
     "data": {
      "text/html": [
       "<div>\n",
       "<style scoped>\n",
       "    .dataframe tbody tr th:only-of-type {\n",
       "        vertical-align: middle;\n",
       "    }\n",
       "\n",
       "    .dataframe tbody tr th {\n",
       "        vertical-align: top;\n",
       "    }\n",
       "\n",
       "    .dataframe thead th {\n",
       "        text-align: right;\n",
       "    }\n",
       "</style>\n",
       "<table border=\"1\" class=\"dataframe\">\n",
       "  <thead>\n",
       "    <tr style=\"text-align: right;\">\n",
       "      <th></th>\n",
       "      <th>Position</th>\n",
       "      <th>Artist Name</th>\n",
       "      <th>Song Name</th>\n",
       "      <th>Days</th>\n",
       "      <th>Top 10 (xTimes)</th>\n",
       "      <th>Peak Position</th>\n",
       "      <th>Peak Position (xTimes)</th>\n",
       "      <th>Peak Streams</th>\n",
       "      <th>Total Streams</th>\n",
       "    </tr>\n",
       "  </thead>\n",
       "  <tbody>\n",
       "    <tr>\n",
       "      <th>0</th>\n",
       "      <td>1</td>\n",
       "      <td>Post Malone</td>\n",
       "      <td>Sunflower  SpiderMan: Into the SpiderVerse</td>\n",
       "      <td>1506</td>\n",
       "      <td>302.0</td>\n",
       "      <td>1</td>\n",
       "      <td>(x29)</td>\n",
       "      <td>2118242</td>\n",
       "      <td>883369738</td>\n",
       "    </tr>\n",
       "    <tr>\n",
       "      <th>1</th>\n",
       "      <td>2</td>\n",
       "      <td>Juice WRLD</td>\n",
       "      <td>Lucid Dreams</td>\n",
       "      <td>1673</td>\n",
       "      <td>178.0</td>\n",
       "      <td>1</td>\n",
       "      <td>(x20)</td>\n",
       "      <td>2127668</td>\n",
       "      <td>864832399</td>\n",
       "    </tr>\n",
       "    <tr>\n",
       "      <th>2</th>\n",
       "      <td>3</td>\n",
       "      <td>Lil Uzi Vert</td>\n",
       "      <td>XO TOUR Llif3</td>\n",
       "      <td>1853</td>\n",
       "      <td>212.0</td>\n",
       "      <td>1</td>\n",
       "      <td>(x4)</td>\n",
       "      <td>1660502</td>\n",
       "      <td>781153024</td>\n",
       "    </tr>\n",
       "    <tr>\n",
       "      <th>3</th>\n",
       "      <td>4</td>\n",
       "      <td>J. Cole</td>\n",
       "      <td>No Role Modelz</td>\n",
       "      <td>2547</td>\n",
       "      <td>6.0</td>\n",
       "      <td>7</td>\n",
       "      <td>0</td>\n",
       "      <td>659366</td>\n",
       "      <td>734857487</td>\n",
       "    </tr>\n",
       "    <tr>\n",
       "      <th>4</th>\n",
       "      <td>5</td>\n",
       "      <td>Post Malone</td>\n",
       "      <td>rockstar</td>\n",
       "      <td>1223</td>\n",
       "      <td>186.0</td>\n",
       "      <td>1</td>\n",
       "      <td>(x124)</td>\n",
       "      <td>2905678</td>\n",
       "      <td>718865961</td>\n",
       "    </tr>\n",
       "  </tbody>\n",
       "</table>\n",
       "</div>"
      ],
      "text/plain": [
       "   Position    Artist Name                                   Song Name  Days  \\\n",
       "0         1   Post Malone   Sunflower  SpiderMan: Into the SpiderVerse  1506   \n",
       "1         2    Juice WRLD                                 Lucid Dreams  1673   \n",
       "2         3  Lil Uzi Vert                                XO TOUR Llif3  1853   \n",
       "3         4       J. Cole                               No Role Modelz  2547   \n",
       "4         5   Post Malone                                     rockstar  1223   \n",
       "\n",
       "   Top 10 (xTimes)  Peak Position Peak Position (xTimes)  Peak Streams  \\\n",
       "0            302.0              1                  (x29)       2118242   \n",
       "1            178.0              1                  (x20)       2127668   \n",
       "2            212.0              1                   (x4)       1660502   \n",
       "3              6.0              7                      0        659366   \n",
       "4            186.0              1                 (x124)       2905678   \n",
       "\n",
       "   Total Streams  \n",
       "0      883369738  \n",
       "1      864832399  \n",
       "2      781153024  \n",
       "3      734857487  \n",
       "4      718865961  "
      ]
     },
     "execution_count": 6,
     "metadata": {},
     "output_type": "execute_result"
    }
   ],
   "source": [
    "df = pd.read_csv(\"songdataset.csv\", low_memory=False)[:1000]\n",
    "df.head()"
   ]
  },
  {
   "cell_type": "code",
   "execution_count": 10,
   "id": "e9ce4902-5e73-4ab9-8448-57fa0bce04bd",
   "metadata": {},
   "outputs": [],
   "source": [
    "df = df.drop_duplicates(subset=\"Song Name\")\n",
    "df = df.dropna(axis=0)\n",
    "df = df.drop(df.columns[3:], axis=1)"
   ]
  },
  {
   "cell_type": "code",
   "execution_count": 16,
   "id": "a7320a36-6727-47fe-9f23-d5986e12c3ad",
   "metadata": {},
   "outputs": [
    {
     "name": "stdout",
     "output_type": "stream",
     "text": [
      "[[1. 0. 0. ... 0. 0. 0.]\n",
      " [0. 1. 0. ... 0. 0. 0.]\n",
      " [0. 0. 1. ... 0. 0. 0.]\n",
      " ...\n",
      " [0. 0. 0. ... 1. 0. 0.]\n",
      " [0. 0. 0. ... 0. 1. 0.]\n",
      " [0. 0. 0. ... 0. 0. 1.]]\n"
     ]
    }
   ],
   "source": [
    "df[\"Artist Name\"] = df[\"Artist Name\"].str.replace(\" \", \"\")\n",
    "df[\"data\"] = df.apply(lambda value: \" \".join(value.astype(\"str\")), axis=1)\n",
    "vectorizer = CountVectorizer()\n",
    "vectorized = vectorizer.fit_transform(df[\"data\"])\n",
    "similarities = cosine_similarity(vectorized)\n",
    "print(similarities)"
   ]
  },
  {
   "cell_type": "code",
   "execution_count": 17,
   "id": "04d28e86-7dc8-442f-98e9-c37c64003d68",
   "metadata": {},
   "outputs": [],
   "source": [
    "\n",
    "df_tmp = pd.DataFrame(similarities, columns=df[\"Song Name\"], index=df[\"Song Name\"]).reset_index()"
   ]
  },
  {
   "cell_type": "code",
   "execution_count": null,
   "id": "19bd1333-e110-4fd2-b48d-47fa7c83619a",
   "metadata": {},
   "outputs": [
    {
     "name": "stdout",
     "output_type": "stream",
     "text": [
      "The Top 10 Song Recommendation System\n",
      "-------------------------------------\n",
      "This will generate the 10 songs from the database thoese are similar to the song you entered.\n"
     ]
    },
    {
     "name": "stdin",
     "output_type": "stream",
     "text": [
      "Please enter the name of song:  faded\n"
     ]
    },
    {
     "name": "stdout",
     "output_type": "stream",
     "text": [
      "Sorry, there is no song name in our database. Please try another one.\n"
     ]
    },
    {
     "name": "stdin",
     "output_type": "stream",
     "text": [
      "Please enter the name of song:  Lucid Dreams\n"
     ]
    },
    {
     "name": "stdout",
     "output_type": "stream",
     "text": [
      "You should check out these songs: \n",
      "\n",
      "Robbery\n",
      "Bandit\n",
      "Righteous\n",
      "Legends\n",
      "Wasted\n",
      "Smile\n",
      "Conversations\n",
      "Come & Go\n",
      "Wishing Well\n",
      "Black & White\n",
      "\n",
      "\n",
      "The Top 10 Song Recommendation System\n",
      "-------------------------------------\n",
      "This will generate the 10 songs from the database thoese are similar to the song you entered.\n"
     ]
    }
   ],
   "source": [
    "true = 1\n",
    "while true:\n",
    "    print(\"The Top 10 Song Recommendation System\")\n",
    "    print(\"-------------------------------------\")\n",
    "    print(\"This will generate the 10 songs from the database thoese are similar to the song you entered.\")\n",
    "    while True:\n",
    "        input_song = input(\"Please enter the name of song: \")\n",
    "\n",
    "        if input_song in df_tmp.columns:\n",
    "            recommendation = df_tmp.nlargest(11, input_song)[\"Song Name\"]\n",
    "            break\n",
    "        \n",
    "        else:\n",
    "            print(\"Sorry, there is no song name in our database. Please try another one.\")\n",
    "    \n",
    "    print(\"You should check out these songs: \\n\")\n",
    "    for song in recommendation.values[1:]:\n",
    "        print(song)\n",
    "\n",
    "    print(\"\\n\")\n"
   ]
  }
 ],
 "metadata": {
  "kernelspec": {
   "display_name": "Python 3 (ipykernel)",
   "language": "python",
   "name": "python3"
  },
  "language_info": {
   "codemirror_mode": {
    "name": "ipython",
    "version": 3
   },
   "file_extension": ".py",
   "mimetype": "text/x-python",
   "name": "python",
   "nbconvert_exporter": "python",
   "pygments_lexer": "ipython3",
   "version": "3.11.7"
  }
 },
 "nbformat": 4,
 "nbformat_minor": 5
}
